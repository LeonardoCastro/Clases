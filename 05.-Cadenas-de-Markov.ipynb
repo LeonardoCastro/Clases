{
 "metadata": {
  "kernelspec": {
   "display_name": "Julia 0.3.7-pre",
   "language": "julia",
   "name": "julia 0.3"
  },
  "language": "Julia",
  "language_info": {
   "name": "julia",
   "version": "0.3.7"
  },
  "name": "",
  "signature": "sha256:e9b534d8939acd56622ccd72bee5e49b29841ed22e5be9f4308487a4bb260250"
 },
 "nbformat": 3,
 "nbformat_minor": 0,
 "worksheets": [
  {
   "cells": [
    {
     "cell_type": "heading",
     "level": 1,
     "metadata": {},
     "source": [
      "Cadenas de Markov "
     ]
    },
    {
     "cell_type": "markdown",
     "metadata": {},
     "source": [
      "Un caminante aleatorio es un tipo particular de una *cadena de Markov*.\n",
      "\n",
      "Una cadena de Markov es, a su vez, un tipo de \n",
      "*proceso estoc\u00e1stico*, es decir una evoluci\u00f3n en \n",
      "el tiempo que no es determinista, sino donde hay \n",
      "una probabilidad dada, el sistema lleva a cabo \n",
      "una *transici\u00f3n* hacia un estado nuevo. Las cadenas de Markov son de gran importancia hoy d\u00eda en las ciencias.\n",
      "\n",
      "La particularidad de las cadenas de Markov es que satisfacen la *propiedad de Markov*: el estado nuevo depende *s\u00f3lo de un estado anterior*. Se suele decir que el proceso *no tiene memoria*.\n",
      "\n",
      "Por ejemplo, una caminata aleatoria satisface esto, ya que la posici\u00f3n al tiempo $t+1$ depende s\u00f3lo de la posici\u00f3n al tiempo $t$ (no de posiciones a tiempos anteriores).  "
     ]
    },
    {
     "cell_type": "markdown",
     "metadata": {},
     "source": [
      "Sea $X_n$ el estado del proceso al tiempo $n$. Nos interesaremos por el momento en procesos de Markov tal que\n",
      "$P(X_{n+1} = j \\, | \\, X_n = i) = p_{ij}$, independiente del tiempo. La notaci\u00f3n aqu\u00ed es de una *probabilidad condicional*, es decir, la probabilidad de que el sistema est\u00e1 en el estado $j$ al tiempo $n+1$, *dado que* estaba en el estado $i$ al tiempo $n$."
     ]
    },
    {
     "cell_type": "markdown",
     "metadata": {},
     "source": [
      "[1] Las $p_{ij}$ forman una matriz. \n",
      "\n",
      "(i) Escribe la matriz para un caminante aleatorio con fronteras reflejantes en 0 y $L=5$, si tiene probabilidades $p$, $q$, y $r$ de brincar a la derecha o izquierda, o de permanecer en el mismo lugar, respectivamente.\n",
      "\n",
      "(ii) \u00bfQu\u00e9 propiedad debe satisfacer cualquier matriz de transici\u00f3n?\n",
      "\n",
      "[2] Considera una cadena que tiene 4 estados. Desde cada estado puede brincar a cada otro estado con igual probabilidad. \n",
      "\n",
      "(i) Escribe la matriz de transici\u00f3n $\\mathsf{P} = (p_{ij})$. \u00bfQu\u00e9 propiedades tiene que satisfacer?\n",
      "\n",
      "(ii) \u00bfQu\u00e9 tipo de propiedades nos podr\u00edan interesar?, suponiendo que esto modela un estado f\u00edsico, qu\u00edmico o biol\u00f3gico que puede estar en uno de estos estados.\n",
      "\n",
      "(iii) Simula la din\u00e1mica del sistema: escribe una funci\u00f3n que genera una realizaci\u00f3n de cierta longitud.\n",
      "\n",
      "(iv) Escribe funciones que calculen las cantidades de inter\u00e9s num\u00e9ricamente.\n",
      "\n"
     ]
    },
    {
     "cell_type": "markdown",
     "metadata": {},
     "source": [
      "[1] (i)\n",
      "\n",
      "\n",
      "$ P_{ij} = \\begin{pmatrix}\n",
      "r+q & q & 0 & 0 \\\\\n",
      "p & r & q & 0 \\\\\n",
      "0 & p & r & q \\\\\n",
      "0 & 0 & p & r+p \\\\\n",
      "\\end{pmatrix} $\n",
      "\n",
      "\n",
      "[1] (ii)\n",
      "\n",
      "la suma de los elementos de cada una de las columnas es igual a 1"
     ]
    },
    {
     "cell_type": "markdown",
     "metadata": {},
     "source": [
      "[2] (i)\n",
      "\n",
      "p es la probabilidad de que la cadena salte de un estado a otro\n",
      "\n",
      "$ P_{ij} = \\begin{pmatrix}\n",
      "0 & p & p & p \\\\\n",
      "p & 0 & p & p \\\\\n",
      "p & p & 0 & p \\\\\n",
      "p & p & p & 0 \\\\\n",
      "\\end{pmatrix} $\n"
     ]
    },
    {
     "cell_type": "code",
     "collapsed": false,
     "input": [
      "function salto_de_estado(estado_i, estados)\n",
      "    \n",
      "    i = rand(1:len(estados))\n",
      "    estado_nuevo = estados[i]\n",
      "    \n",
      "    if estado_nuevo == estado_i\n",
      "        while estado_i == estado_nuevo\n",
      "            i = rand(1:len(estados))\n",
      "            estado_nuevo = estados[i]\n",
      "        end\n",
      "    end\n",
      "    return estado_nuevo\n",
      "end\n",
      "    "
     ],
     "language": "python",
     "metadata": {},
     "outputs": [
      {
       "metadata": {},
       "output_type": "pyout",
       "prompt_number": 32,
       "text": [
        "salto_de_estado (generic function with 1 method)"
       ]
      }
     ],
     "prompt_number": 32
    },
    {
     "cell_type": "code",
     "collapsed": false,
     "input": [
      "function distribucion_salto_de_estados(NumEstados, T)\n",
      "    \n",
      "    P = ones(NumEstados)*(1./NumEstados)\n",
      "    condicion_inicial = rand(1:NumEstados)\n",
      "    \n",
      "    P_ij =  (1./(NumEstados-1))*ones(NumEstados, NumEstados)\n",
      "    for i in 1:NumEstados\n",
      "        P_ij[i,i] = 0.0\n",
      "    end\n",
      "    \n",
      "    P[condicion_inicial] = 0.0\n",
      "    \n",
      "    for t in 1:T\n",
      "        \n",
      "        P = P_ij*P\n",
      "    end\n",
      "    return P\n",
      "end\n",
      "        "
     ],
     "language": "python",
     "metadata": {},
     "outputs": [
      {
       "metadata": {},
       "output_type": "pyout",
       "prompt_number": 46,
       "text": [
        "distribucion_salto_de_estados (generic function with 1 method)"
       ]
      }
     ],
     "prompt_number": 46
    },
    {
     "cell_type": "code",
     "collapsed": false,
     "input": [
      "distribucion_salto_de_estados(5, 100)"
     ],
     "language": "python",
     "metadata": {},
     "outputs": [
      {
       "metadata": {},
       "output_type": "pyout",
       "prompt_number": 47,
       "text": [
        "5-element Array{Float64,1}:\n",
        " 0.16\n",
        " 0.16\n",
        " 0.16\n",
        " 0.16\n",
        " 0.16"
       ]
      }
     ],
     "prompt_number": 47
    },
    {
     "cell_type": "code",
     "collapsed": false,
     "input": [
      "R = [1,2,3]\n",
      "P = ones(3,3)"
     ],
     "language": "python",
     "metadata": {},
     "outputs": [
      {
       "metadata": {},
       "output_type": "pyout",
       "prompt_number": 33,
       "text": [
        "3x3 Array{Float64,2}:\n",
        " 1.0  1.0  1.0\n",
        " 1.0  1.0  1.0\n",
        " 1.0  1.0  1.0"
       ]
      }
     ],
     "prompt_number": 33
    },
    {
     "cell_type": "code",
     "collapsed": false,
     "input": [
      "R"
     ],
     "language": "python",
     "metadata": {},
     "outputs": [
      {
       "metadata": {},
       "output_type": "pyout",
       "prompt_number": 34,
       "text": [
        "3-element Array{Int64,1}:\n",
        " 1\n",
        " 2\n",
        " 3"
       ]
      }
     ],
     "prompt_number": 34
    },
    {
     "cell_type": "code",
     "collapsed": false,
     "input": [
      "P*R"
     ],
     "language": "python",
     "metadata": {},
     "outputs": [
      {
       "metadata": {},
       "output_type": "pyout",
       "prompt_number": 39,
       "text": [
        "3-element Array{Float64,1}:\n",
        " 6.0\n",
        " 6.0\n",
        " 6.0"
       ]
      }
     ],
     "prompt_number": 39
    },
    {
     "cell_type": "markdown",
     "metadata": {},
     "source": [
      "[3] Escribe una funci\u00f3n para simular una realizaci\u00f3n de una trayectoria correspondiendo a una matriz de transici\u00f3n *arbitraria* $\\mathsf{P}$ que satisfaga las propiedades de 2(i)."
     ]
    },
    {
     "cell_type": "heading",
     "level": 2,
     "metadata": {},
     "source": [
      "M\u00e9todo estilo enumeraci\u00f3n exacta"
     ]
    },
    {
     "cell_type": "markdown",
     "metadata": {},
     "source": [
      "Tal como hicimos para un caminante aleatorio, para una cadena de Markov tambi\u00e9n podemos cambiar de punto de vista y estudiar la evoluci\u00f3n de la *distribuci\u00f3n de probabilidad*, la cual nos dice la probabilidad de que la cadena se encuentra en cada estado al tiempo $t$.\n",
      "\n",
      "Primero veamos esto anal\u00edticamente."
     ]
    },
    {
     "cell_type": "markdown",
     "metadata": {},
     "source": [
      "[4] Supongamos que la cadena empieza en alguna distribuci\u00f3n de probabilidad inicial $\\mathbf{P}_0 = (P_{0,i}: i=1, \\ldots, n)$, donde $n$ es el n\u00famero de estados.\n",
      "\n",
      "(i) Escribe la ecuaci\u00f3n maestra que describe c\u00f3mo evoluciona la probabilidad en 1 paso.  \n",
      "\n",
      "(ii) Escr\u00edbela de nuevo, ahora usando notaci\u00f3n matricial.\n",
      "\n",
      "(ii) \u00bfQu\u00e9 pasa en 2 pasos? \u00bfEn $N$ pasos?"
     ]
    },
    {
     "cell_type": "markdown",
     "metadata": {},
     "source": [
      "[5] Simula la din\u00e1mica de la cadena de Markov de la pregunta 2 desde una condici\u00f3n inicial que es una delta en alg\u00fan estado por un tiempo $t$. \u00bfQu\u00e9 observas cuando $t \\to \\infty$?"
     ]
    },
    {
     "cell_type": "markdown",
     "metadata": {},
     "source": [
      "[6] Este mismo fen\u00f3meno (lo que pasa cuando $t \\to \\infty$) ocurre para \"casi todas\" las cadenas de Markov (cuando se satisfacen ciertas condiciones t\u00e9cnicas). Expl\u00edcalo usando propiedades de la matriz que vieron en \u00e1lgebra lineal. \u00bfA qu\u00e9 corresponde lo que pasa cuando $t \\to \\infty$?"
     ]
    },
    {
     "cell_type": "code",
     "collapsed": false,
     "input": [],
     "language": "python",
     "metadata": {},
     "outputs": []
    }
   ],
   "metadata": {}
  }
 ]
}