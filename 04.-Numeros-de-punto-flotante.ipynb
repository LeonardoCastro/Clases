{
 "cells": [
  {
   "cell_type": "markdown",
   "metadata": {},
   "source": [
    "# 04. Números de punto flotante y redondeo"
   ]
  },
  {
   "cell_type": "markdown",
   "metadata": {},
   "source": [
    "### 1. Números de punto flotante y la norma IEEE 754"
   ]
  },
  {
   "cell_type": "markdown",
   "metadata": {},
   "source": [
    "Los números de punto flotante son números reales que tienen la forma:\n",
    "\n",
    "\\begin{equation}\n",
    "x = (-1)^\\sigma m \\times \\beta^e,\n",
    "\\end{equation}\n",
    "donde $\\beta\\geq 2$ es un entero mayor que define la *base*, $m = (b_0.b_1\\, b_2\\, b_3  \\cdots)_\\beta$ es la *mantisa* o *significante* escrita en la base $\\beta$, donde $b_i = {0, 1, \\dots, \\beta-1}$, y $\\sigma$ sirve para definir el signo. Finalmente, $e$, el exponente, es un número entero. Para evitar *las colas infinitas de nueves*, que en binario son las de unos, uno además pide que $0\\leq b_i \\leq \\beta-2$ para un número infinito de $i$'s.\n",
    "\n",
    "Este conjunto es *no numerable*, como los reales. Esta representación *no es única*.\n",
    "\n",
    "Llevar los reales a la computadora obviamente involucra hacer dos concesiones:  en primer lugar, uno debe considerar conjuntos *finitos* de números como modelo de los reales, y en segundo término, que la representación sea *única*.\n",
    "\n",
    "En particular, pedimos que el primer dígito $b_0$ no sea cero para todo $x$ distinto de cero; los números de punto flotante que satisfacen esta condición se llaman *normales* o *normalizados*."
   ]
  },
  {
   "cell_type": "markdown",
   "metadata": {},
   "source": [
    "Hacer que el número de *bits* (o sea, la base es $\\beta=2$) sea finito no es suficiente considerar\n",
    "que la mantisa consista de un número finito de entradas, sino además que el rango de $e$ sea *finito*. Esto es:\n",
    "\n",
    "\\begin{eqnarray}\n",
    "m & = & (b_0.b_1\\,b_2\\,\\cdots \\, b_p),\\\\\n",
    "e & \\in & [ e_{min}, e_{max} ].\\\\\n",
    "\\end{eqnarray}\n",
    "\n",
    "Aquí, $p$ se conoce como el número de *dígitos significativos* (*precision* en inglés), que **no** hay que confundir con la precisión (*accuracy*).\n",
    "\n",
    "En el caso de la representación binaria, dado que $b_0=1$, entonces uno *puede* obviar esto, lo que significa que el bit $b_0$ **no** se guarda. A esta convención se le llama la *regla del bit escondido* (*hidden bit rule*). "
   ]
  },
  {
   "cell_type": "markdown",
   "metadata": {},
   "source": [
    "-----\n",
    "\n",
    "**Ejercicio 1** \n",
    "\n",
    "Dados $p$, $e_{min}$ y $e_{max}$, usando el sistema binario, ¿de cuántos números *normales* consiste el conjunto? ¿Y si se trata de otra base $\\beta$? ¿Están uniformemente distribuidos los números normales? ¿Cuál es la distancia entre el 0 y el primer número positivo distinto de cero?\n",
    "*NOTA* Para guiar la respuesta, uno puede jugar con $\\beta=2$, $p=2$,  $e_{min} = -1$ y $e_{max} = 2$, pero la idea es obtener expresiones generales.\n",
    "\n",
    "(Entre paréntesis, a estas alturas del partido deben haber escrito funciones que permiten pasar de un entero a una cadena binaria equivalente, y viceversa, y de un número de punto flotante en base 10 al equivalente en binario, y viceversa. No sólo se trata de que estas funciones estén escritas, sino de que nos sean *útiles*, o sea, de que den resultados que podemos confiar y usar.)\n"
   ]
  },
  {
   "cell_type": "code",
   "execution_count": null,
   "metadata": {
    "collapsed": false
   },
   "outputs": [],
   "source": []
  },
  {
   "cell_type": "markdown",
   "metadata": {},
   "source": [
    "---\n",
    "\n",
    "**Ejercicio 2** \n",
    "\n",
    "¿Cómo se representa al $x=0$ en el conjunto anterior? ¿Funciona la regla del bit escondido para una base $\\beta>2$?"
   ]
  },
  {
   "cell_type": "code",
   "execution_count": null,
   "metadata": {
    "collapsed": false
   },
   "outputs": [],
   "source": []
  },
  {
   "cell_type": "markdown",
   "metadata": {},
   "source": [
    "Del ejercicio 1 arriba, uno se da cuenta de que hay una distancia anómalamente grande entre 0 y el primer número positivo. Esto trae problemas prácticos relacionados con la pérdida de precisión cuando se tienen cantidades cercanas a cero. La manera de evitar esto es permitir que haya ciertos números que no son normales; a éstos se les llama *subnormales*. Un número distinto de cero es subnormal si $b_0=0$. Esto permite llegar a cero de manera gradual al incorporar estos números al conjunto de números representables.\n"
   ]
  },
  {
   "cell_type": "markdown",
   "metadata": {},
   "source": [
    "---\n",
    "\n",
    "**Ejercicio 3**\n",
    "\n",
    "En el ejemplo de juguete anterior ($\\beta=2$, $p=2$,  $e_{min} = -1$ y $e_{max} = 2$) enumera los posibles números subnormales. ¿Cómo cambia la distancia de 0 al número positivo más próximo? ¿El espaciamiento entre los números subnormales, es uniforme?\n"
   ]
  },
  {
   "cell_type": "code",
   "execution_count": null,
   "metadata": {
    "collapsed": false
   },
   "outputs": [],
   "source": []
  },
  {
   "cell_type": "markdown",
   "metadata": {},
   "source": [
    "---\n",
    "\n",
    "**Ejercicio 4**\n",
    "\n",
    "¿Qué expresiones definen a $N_{min}$ y $N_{max}$, los números de punto flotante (positivos) mínimo y máximo? Obtén los resultados para los números normales y los subnormales."
   ]
  },
  {
   "cell_type": "markdown",
   "metadata": {},
   "source": [
    "La norma [IEEE 754](http://en.wikipedia.org/wiki/IEEE_floating_point) define el estándar de la representación de los números de punto flotante en las computadoras. En particular, aquí nos interesará la representación *en doble precisión* o de 64-bits, que consiste en el primer bit que contiene el signo $\\sigma$, de un exponente $e$ de 11-bits que tiene un *sesgo* (*bias*) $B_*$ y de la mantisa que consta de $p=52$ bits (de facto, $p=53$, si se incluye la regla del bit escondido). El resultado claramente son los 64 bits de almacenamiento.\n",
    "\n",
    "El sesgo se introduce por la siguiente razón. Sin sesgo, el exponente $e$ varía entre 0 y $2^{E_*} - 1$, donde $E_*$ son el número de bits asignados al exponente. Entonces, el sesgo se introduce *restando* $B_* = 2^{E_*-1} - 1$ del exponente, lo que de facto hace que el rango del exponente sea $e \\in [-2^{E_*-1} + 1, 2^{E_*-1}]$.\n",
    "\n"
   ]
  },
  {
   "cell_type": "markdown",
   "metadata": {},
   "source": [
    "---\n",
    "\n",
    "**Ejercicio 5**\n",
    "\n",
    "Usando `bits` y un poco de imaginación, cuáles son las reglas para representar\n",
    "- $x=$`NaN`\n",
    "\n",
    "- $x=$`Inf`\n",
    "\n",
    "- un número $x>0$ *normal*\n",
    "\n",
    "- un número $x$ *subnormal*\n",
    "\n",
    "- $x=0.0$ y $x = -0.0$"
   ]
  },
  {
   "cell_type": "code",
   "execution_count": null,
   "metadata": {
    "collapsed": false
   },
   "outputs": [],
   "source": []
  },
  {
   "cell_type": "markdown",
   "metadata": {},
   "source": [
    "---\n",
    "\n",
    "**Ejercicio 6**\n",
    "\n",
    "- Dado que los números de punto flotante son *finitos*, construye la representación decimal de dos números normales de punto flotante *consecutivos*, y dos subnormales consecutivos.\n",
    "\n",
    "- ¿Cuál es la representación binaria del promedio de esos dos números? ¿Qué obtienes a partir de tus programas?\n",
    "\n",
    "- ¿Cuál es la representación binaria de la diferencia?"
   ]
  },
  {
   "cell_type": "code",
   "execution_count": null,
   "metadata": {
    "collapsed": false
   },
   "outputs": [],
   "source": []
  },
  {
   "cell_type": "markdown",
   "metadata": {},
   "source": [
    "---\n",
    "\n",
    "**Ejercicio 7** Donde *todo esto*, y mucho más, puede ser importante...\n",
    "\n",
    "Escribe una función que evalúe\n",
    "\n",
    "\\begin{equation}\n",
    "f(x,y) = 333.75 y^6 + x^2 (11 x^2 y^2 - y^6 - 121 y^4 - 2) + 5.5 y^8 + \\frac{x}{2y}\n",
    "\\end{equation}\n",
    "\n",
    "Usando esta función, *demuestra* que $f(x=77617, y=33096) = -0.8273960599468214$.\n",
    "\n",
    "**NOTA** Los números han sido verificados y *son correctos* :-)"
   ]
  },
  {
   "cell_type": "code",
   "execution_count": 2,
   "metadata": {
    "collapsed": false
   },
   "outputs": [
    {
     "data": {
      "text/plain": [
       "real (generic function with 1 method)"
      ]
     },
     "execution_count": 2,
     "metadata": {},
     "output_type": "execute_result"
    }
   ],
   "source": [
    "function real(σ, m, β, e)\n",
    "    return (-1)^σ*m*β^e\n",
    "end"
   ]
  },
  {
   "cell_type": "code",
   "execution_count": 72,
   "metadata": {
    "collapsed": false
   },
   "outputs": [
    {
     "data": {
      "text/plain": [
       "33096.00768"
      ]
     },
     "execution_count": 72,
     "metadata": {},
     "output_type": "execute_result"
    }
   ],
   "source": [
    "σ = 0\n",
    "m = 1.01001\n",
    "β = 2\n",
    "e = 15\n",
    "\n",
    "y = real(σ, m, β, e)"
   ]
  },
  {
   "cell_type": "code",
   "execution_count": 73,
   "metadata": {
    "collapsed": false
   },
   "outputs": [
    {
     "data": {
      "text/plain": [
       "77617.037312"
      ]
     },
     "execution_count": 73,
     "metadata": {},
     "output_type": "execute_result"
    }
   ],
   "source": [
    "σ = 0\n",
    "m = 1.184342\n",
    "β = 2\n",
    "e = 16\n",
    "\n",
    "x = real(σ, m, β, e)"
   ]
  },
  {
   "cell_type": "code",
   "execution_count": 70,
   "metadata": {
    "collapsed": false
   },
   "outputs": [
    {
     "data": {
      "text/plain": [
       "f (generic function with 1 method)"
      ]
     },
     "execution_count": 70,
     "metadata": {},
     "output_type": "execute_result"
    }
   ],
   "source": [
    "function f(x, y)\n",
    "    return 333.75*y^6+(11*(x^2)*(y^2)-(y^6)-121*(y^4)-2)*(x^2)+5.5*(y^8)+x/(2y)\n",
    "end"
   ]
  },
  {
   "cell_type": "code",
   "execution_count": 80,
   "metadata": {
    "collapsed": false
   },
   "outputs": [
    {
     "data": {
      "text/plain": [
       "-8.273960599468213681411650954798162919990331157843848199178148416727096930142628e-01 with 256 bits of precision"
      ]
     },
     "execution_count": 80,
     "metadata": {},
     "output_type": "execute_result"
    }
   ],
   "source": [
    "f( big(77617.0), big(33096.0))"
   ]
  },
  {
   "cell_type": "code",
   "execution_count": 74,
   "metadata": {
    "collapsed": false
   },
   "outputs": [
    {
     "data": {
      "text/plain": [
       "-3.937458994731055e30"
      ]
     },
     "execution_count": 74,
     "metadata": {},
     "output_type": "execute_result"
    }
   ],
   "source": [
    "f( x, y)"
   ]
  },
  {
   "cell_type": "code",
   "execution_count": 77,
   "metadata": {
    "collapsed": false
   },
   "outputs": [
    {
     "data": {
      "text/plain": [
       "7.7617e+04 with 256 bits of precision"
      ]
     },
     "execution_count": 77,
     "metadata": {},
     "output_type": "execute_result"
    }
   ],
   "source": [
    "big(77617.0)"
   ]
  },
  {
   "cell_type": "markdown",
   "metadata": {},
   "source": [
    "###### Nada mas habia que hacer la operacion con `big`"
   ]
  },
  {
   "cell_type": "markdown",
   "metadata": {},
   "source": [
    "---\n",
    "\n",
    "**Ejercicio 8**\n",
    "\n",
    "Pensando en que vas a generar datos para hacer una gráfica (con suficientes puntos), genera dichos datos para los *polinomios* $f(x) = (1-x)^6$ y $g(x) = x^6 -6x^5 + 15x^4 -20 x^3 + 15x^2 - 6 x + 1$, en el dominio $0.995 \\leq x \\leq 1.005$. ¿Hay algo sorprendente en esto?"
   ]
  },
  {
   "cell_type": "code",
   "execution_count": 81,
   "metadata": {
    "collapsed": false
   },
   "outputs": [
    {
     "data": {
      "text/plain": [
       "0.995:0.001:1.005"
      ]
     },
     "execution_count": 81,
     "metadata": {},
     "output_type": "execute_result"
    }
   ],
   "source": [
    "X = 0.995:.001:1.005"
   ]
  },
  {
   "cell_type": "code",
   "execution_count": 82,
   "metadata": {
    "collapsed": false
   },
   "outputs": [
    {
     "data": {
      "text/plain": [
       "q (generic function with 1 method)"
      ]
     },
     "execution_count": 82,
     "metadata": {},
     "output_type": "execute_result"
    }
   ],
   "source": [
    "function p(x)\n",
    "    return (1-x)^6\n",
    "end\n",
    "\n",
    "function q(x)\n",
    "    return x^6 - 6x^5 + 15x^4 - 20x^3 + 15x^2 - 6x + 1\n",
    "end"
   ]
  },
  {
   "cell_type": "code",
   "execution_count": 86,
   "metadata": {
    "collapsed": false
   },
   "outputs": [],
   "source": [
    "Q_buena = Float64[]\n",
    "P_buena = Float64[]\n",
    "\n",
    "Q_mala = Float64[]\n",
    "P_mala = Float64[]\n",
    "\n",
    "for x in X\n",
    "    push!(P_buena, p( big(x) ) )\n",
    "    push!(Q_buena, q( big(x) ) )\n",
    "    \n",
    "    push!(P_mala, p(x) )\n",
    "    push!(Q_mala, q(x) )\n",
    "end"
   ]
  },
  {
   "cell_type": "code",
   "execution_count": 85,
   "metadata": {
    "collapsed": false
   },
   "outputs": [
    {
     "name": "stderr",
     "output_type": "stream",
     "text": [
      "INFO: Loading help data...\n"
     ]
    }
   ],
   "source": [
    "using PyPlot"
   ]
  },
  {
   "cell_type": "code",
   "execution_count": 96,
   "metadata": {
    "collapsed": false
   },
   "outputs": [
    {
     "data": {
      "text/plain": [
       "9.940149800149940008757231624284953636137355338023108434698425590721729667644721e-01 with 256 bits of precision"
      ]
     },
     "execution_count": 96,
     "metadata": {},
     "output_type": "execute_result"
    }
   ],
   "source": [
    "p(big(0.001))"
   ]
  },
  {
   "cell_type": "code",
   "execution_count": 97,
   "metadata": {
    "collapsed": false
   },
   "outputs": [
    {
     "data": {
      "text/plain": [
       "9.94014980014993998480576919973827898502349853515625e-01 with 256 bits of precision"
      ]
     },
     "execution_count": 97,
     "metadata": {},
     "output_type": "execute_result"
    }
   ],
   "source": [
    "big(p(0.001))"
   ]
  },
  {
   "cell_type": "code",
   "execution_count": 87,
   "metadata": {
    "collapsed": false
   },
   "outputs": [
    {
     "data": {
      "image/png": "[encoded data removed]",
      "text/plain": [
       "Figure(PyObject <matplotlib.figure.Figure object at 0x114188890>)"
      ]
     },
     "metadata": {},
     "output_type": "display_data"
    },
    {
     "data": {
      "text/plain": [
       "1-element Array{Any,1}:\n",
       " PyObject <matplotlib.lines.Line2D object at 0x1161b2590>"
      ]
     },
     "execution_count": 87,
     "metadata": {},
     "output_type": "execute_result"
    }
   ],
   "source": [
    "plot(X, P_mala)"
   ]
  },
  {
   "cell_type": "code",
   "execution_count": 88,
   "metadata": {
    "collapsed": false
   },
   "outputs": [
    {
     "data": {
      "image/png": "[encoded data removed]",
      "text/plain": [
       "Figure(PyObject <matplotlib.figure.Figure object at 0x1163c2050>)"
      ]
     },
     "metadata": {},
     "output_type": "display_data"
    },
    {
     "data": {
      "text/plain": [
       "1-element Array{Any,1}:\n",
       " PyObject <matplotlib.lines.Line2D object at 0x1165f4350>"
      ]
     },
     "execution_count": 88,
     "metadata": {},
     "output_type": "execute_result"
    }
   ],
   "source": [
    "plot(X, P_buena)"
   ]
  },
  {
   "cell_type": "code",
   "execution_count": 89,
   "metadata": {
    "collapsed": false
   },
   "outputs": [
    {
     "data": {
      "text/plain": [
       "11-element Array{Float64,1}:\n",
       " 1.5625e-14\n",
       " 4.096e-15 \n",
       " 7.29e-16  \n",
       " 6.4e-17   \n",
       " 1.0e-18   \n",
       " 0.0       \n",
       " 1.0e-18   \n",
       " 6.4e-17   \n",
       " 7.29e-16  \n",
       " 4.096e-15 \n",
       " 1.5625e-14"
      ]
     },
     "execution_count": 89,
     "metadata": {},
     "output_type": "execute_result"
    }
   ],
   "source": [
    "P_buena"
   ]
  },
  {
   "cell_type": "code",
   "execution_count": 90,
   "metadata": {
    "collapsed": false
   },
   "outputs": [
    {
     "data": {
      "text/plain": [
       "11-element Array{Float64,1}:\n",
       " 1.5625e-14\n",
       " 4.096e-15 \n",
       " 7.29e-16  \n",
       " 6.4e-17   \n",
       " 1.0e-18   \n",
       " 0.0       \n",
       " 1.0e-18   \n",
       " 6.4e-17   \n",
       " 7.29e-16  \n",
       " 4.096e-15 \n",
       " 1.5625e-14"
      ]
     },
     "execution_count": 90,
     "metadata": {},
     "output_type": "execute_result"
    }
   ],
   "source": [
    "P_mala"
   ]
  },
  {
   "cell_type": "code",
   "execution_count": 93,
   "metadata": {
    "collapsed": false
   },
   "outputs": [
    {
     "name": "stdout",
     "output_type": "stream",
     "text": [
      "0.0\n",
      "0.0\n",
      "0.0\n",
      "0.0\n",
      "0.0\n",
      "0.0\n",
      "0.0\n",
      "0.0\n",
      "0.0\n",
      "0.0\n",
      "0.0\n"
     ]
    }
   ],
   "source": [
    "for x in 1:length(X)\n",
    "    println( P_mala[x] - P_buena[x])\n",
    "end"
   ]
  },
  {
   "cell_type": "markdown",
   "metadata": {},
   "source": [
    "---\n",
    "\n",
    "**Ejercicio 9**\n",
    "\n",
    "Explica por qué es mala idea usar como paso de integración $0.1$ o $0.01$, u otros valores de este estilo. ¿Qué pasa con el tiempo que vas calculando en cada paso de la integración?"
   ]
  },
  {
   "cell_type": "code",
   "execution_count": 98,
   "metadata": {
    "collapsed": false
   },
   "outputs": [
    {
     "data": {
      "text/plain": [
       "208"
      ]
     },
     "execution_count": 98,
     "metadata": {},
     "output_type": "execute_result"
    }
   ],
   "source": [
    "4*'4'"
   ]
  },
  {
   "cell_type": "code",
   "execution_count": 100,
   "metadata": {
    "collapsed": false
   },
   "outputs": [
    {
     "data": {
      "text/plain": [
       "52"
      ]
     },
     "execution_count": 100,
     "metadata": {},
     "output_type": "execute_result"
    }
   ],
   "source": [
    "1*'4'"
   ]
  },
  {
   "cell_type": "code",
   "execution_count": 102,
   "metadata": {
    "collapsed": false
   },
   "outputs": [
    {
     "data": {
      "text/plain": [
       "0"
      ]
     },
     "execution_count": 102,
     "metadata": {},
     "output_type": "execute_result"
    }
   ],
   "source": [
    "2*'\\0'"
   ]
  },
  {
   "cell_type": "code",
   "execution_count": null,
   "metadata": {
    "collapsed": true
   },
   "outputs": [],
   "source": []
  }
 ],
 "metadata": {
  "kernelspec": {
   "display_name": "Julia 0.3.5",
   "language": "julia",
   "name": "julia 0.3"
  },
  "language_info": {
   "name": "julia",
   "version": "0.3.5"
  }
 },
 "nbformat": 4,
 "nbformat_minor": 0
}
