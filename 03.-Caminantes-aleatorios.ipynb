{
 "metadata": {
  "language": "Julia",
  "name": "",
  "signature": "sha256:4e9a6dafd3e9dda4f99c40a02be957e52296e501607bf3cd6d97049c2691b20f"
 },
 "nbformat": 3,
 "nbformat_minor": 0,
 "worksheets": [
  {
   "cells": [
    {
     "cell_type": "heading",
     "level": 1,
     "metadata": {},
     "source": [
      "Caminatas aleatorias"
     ]
    },
    {
     "cell_type": "markdown",
     "metadata": {},
     "source": [
      "Uno de los procesos estoc\u00e1sticos m\u00e1s fundamentales e importantes en la f\u00edsica es el *movimiento Browniano*. Un acercamiento inicial a este p|roblema se da a trav\u00e9s de las *caminatas aleatorias*, que modela una part\u00edcula que recibe impactos al azar, que hacen que brinque en direcciones aleatorias."
     ]
    },
    {
     "cell_type": "markdown",
     "metadata": {},
     "source": [
      "[1] Piensa en una caminata aleatoria en una dimensi\u00f3n. Vive en los enteros, y en cada paso de tiempo brinca a la derecha con probabilidad $\\frac{1}{2}$ y a la izquierda con probabilidad $\\frac{1}{2}$.\n",
      "\n",
      "Escribe una funci\u00f3n que genere el tama\u00f1o del brinco: $+1$ o $-1$, cada uno con probabilidad $\\frac{1}{2}$."
     ]
    },
    {
     "cell_type": "markdown",
     "metadata": {},
     "source": [
      "[1]"
     ]
    },
    {
     "cell_type": "code",
     "collapsed": false,
     "input": [
      "function CamAleat1D(x0, Tiempo)\n",
      "    x = x0\n",
      "    X = Int64[x0]\n",
      "    for i in 1:Tiempo\n",
      "        p = rand()\n",
      "        if p <0.5\n",
      "            x += 1\n",
      "        else\n",
      "            x -= 1\n",
      "        end\n",
      "        push!(X, x)        \n",
      "    end\n",
      "    return X\n",
      "end"
     ],
     "language": "python",
     "metadata": {},
     "outputs": [
      {
       "metadata": {},
       "output_type": "pyout",
       "prompt_number": 21,
       "text": [
        "CamAleat1D (generic function with 2 methods)"
       ]
      }
     ],
     "prompt_number": 21
    },
    {
     "cell_type": "markdown",
     "metadata": {},
     "source": [
      "[2] Haz una funci\u00f3n que calcule la trayectoria de una caminata aleatoria que empiece en $0$ y toma $n$ pasos al azar. Regresa la trayectoria.\n",
      "\n",
      "(a) Dibuja varias trayectorias en una misma gr\u00e1fica, como funci\u00f3n del tiempo. \u00bfQu\u00e9 observas?\n",
      "\n",
      "(b) Dibuja *muchas* trayectorias en una misma gr\u00e1fica. \u00bfQu\u00e9 observas?\n",
      "\n",
      "(c) Dibuja distintas curvas encima para intentar adivinar c\u00f3mo se comporta la mancha en el tiempo.\n",
      "\n",
      "(d) En lugar de dibujar muchas curvas, s\u00f3lo dibuja los l\u00edmites inferiores y superiores de la mancha. \u00bfC\u00f3mo cambian en el tiempo? Dib\u00fajalos de otra forma para verificar esto."
     ]
    },
    {
     "cell_type": "markdown",
     "metadata": {},
     "source": [
      "[2] (a)"
     ]
    },
    {
     "cell_type": "code",
     "collapsed": false,
     "input": [
      "using PyPlot"
     ],
     "language": "python",
     "metadata": {},
     "outputs": [
      {
       "ename": "LoadError",
       "evalue": "PyPlot not found\nwhile loading In[25], in expression starting on line 1",
       "output_type": "pyerr",
       "traceback": [
        "PyPlot not found\nwhile loading In[25], in expression starting on line 1",
        "",
        " in require at loading.jl:47"
       ]
      }
     ],
     "prompt_number": 25
    },
    {
     "cell_type": "code",
     "collapsed": false,
     "input": [
      "function TrayectoriaCamAleat1D(n, x0, T)\n",
      "    \n",
      "    for i in 1:n\n",
      "        X = CamAleat1D(x0[i], T)\n",
      "        plot(X, color=\"k\")\n",
      "    end\n",
      "end"
     ],
     "language": "python",
     "metadata": {},
     "outputs": [
      {
       "metadata": {},
       "output_type": "pyout",
       "prompt_number": 26,
       "text": [
        "TrayectoriaCamAleat1D (generic function with 1 method)"
       ]
      }
     ],
     "prompt_number": 26
    },
    {
     "cell_type": "code",
     "collapsed": false,
     "input": [
      "TrayectoriaCamAleat1D(1,[0], 100)"
     ],
     "language": "python",
     "metadata": {},
     "outputs": [
      {
       "ename": "LoadError",
       "evalue": "plot not defined\nwhile loading In[27], in expression starting on line 1",
       "output_type": "pyerr",
       "traceback": [
        "plot not defined\nwhile loading In[27], in expression starting on line 1",
        "",
        " in TrayectoriaCamAleat1D at In[26]:5"
       ]
      }
     ],
     "prompt_number": 27
    },
    {
     "cell_type": "code",
     "collapsed": false,
     "input": [
      "push!()"
     ],
     "language": "python",
     "metadata": {},
     "outputs": []
    },
    {
     "cell_type": "markdown",
     "metadata": {},
     "source": [
      "[3] Modifica tu funci\u00f3n para que brinque a la derecha con probabilidad $p$ y a la izquierda con probabilidad $q := 1-p$. Para varios valores de $p$, dibuja varias trayectorias en una sola gr\u00e1fica (una gr\u00e1fica por valor de $p$). \u00bfQu\u00e9 observas? \n",
      "\n",
      "[Puedes crear nuevas figuras en `PyPlot` con `figura()`.]"
     ]
    },
    {
     "cell_type": "markdown",
     "metadata": {},
     "source": [
      "[4] Piensa en un tiempo final $n$ dado. \u00bfC\u00f3mo puedes caracterizar a la colecci\u00f3n de posiciones de la colecci\u00f3n de las posiciones de un n\u00famero grande $M$ de caminantes aleatorios en este tiempo? Dibuja varias caracterizaciones como funci\u00f3n del tiempo final $n$."
     ]
    },
    {
     "cell_type": "markdown",
     "metadata": {},
     "source": [
      "[5] Modifica tu caminante para que tenga una probabilidad $r$ de quedarse en el mismo lugar. \u00bfC\u00f3mo cambian los resultados?"
     ]
    },
    {
     "cell_type": "markdown",
     "metadata": {},
     "source": [
      "[6] Haz lo mismo para caminantes en 2D y caminantes en 3D. [Aqu\u00ed ya no dibujes las trayectorias como funci\u00f3n del tiempo, sino dibuja las trayectorias en el espacio.]"
     ]
    }
   ],
   "metadata": {}
  }
 ]
}